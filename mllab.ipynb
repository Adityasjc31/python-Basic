{
 "cells": [
  {
   "cell_type": "code",
   "execution_count": 1,
   "metadata": {},
   "outputs": [],
   "source": [
    "import pandas as pd"
   ]
  },
  {
   "cell_type": "markdown",
   "metadata": {},
   "source": [
    "### Experiment 1 - Implement and demonstrate the FIND-S algorithm for finding the most specific hypothesis based on a given set of training data samples. Read the training data from a .CSV file. "
   ]
  },
  {
   "cell_type": "code",
   "execution_count": 2,
   "metadata": {},
   "outputs": [
    {
     "data": {
      "text/plain": [
       "array([['Sunny', 'Warm', 'Normal', 'Strong', 'Warm', 'Same', 'Yes'],\n",
       "       ['Sunny', 'Warm', 'High', 'Strong', 'Warm', 'Same', 'Yes'],\n",
       "       ['Rainy', 'Cold', 'High', 'Strong', 'Warm', 'Change', 'No'],\n",
       "       ['Sunny', 'Warm', 'High', 'Strong', 'Cool', 'Change', 'Yes']],\n",
       "      dtype=object)"
      ]
     },
     "execution_count": 2,
     "metadata": {},
     "output_type": "execute_result"
    }
   ],
   "source": [
    "dataset = pd.read_csv('C:/Users/adity/OneDrive/Documents/data science/dataset/trainingdata.csv')\n",
    "dataset = dataset.to_numpy()\n",
    "dataset"
   ]
  },
  {
   "cell_type": "code",
   "execution_count": 5,
   "metadata": {},
   "outputs": [],
   "source": [
    "def find_s_algorithm(training_data):\n",
    "    hypothesis = [\"ϕ\"] * len(training_data[0])\n",
    "\n",
    "    \n",
    "    for example in training_data:\n",
    "        if example[-1] == \"Yes\":\n",
    "            for i in range(len(example) - 1):\n",
    "                if hypothesis[i] == \"ϕ\":\n",
    "                    hypothesis[i] = example[i]\n",
    "                elif hypothesis[i] != example[i]:\n",
    "                    hypothesis[i] = \"?\"\n",
    "\n",
    "    return hypothesis"
   ]
  },
  {
   "cell_type": "code",
   "execution_count": 4,
   "metadata": {},
   "outputs": [
    {
     "name": "stdout",
     "output_type": "stream",
     "text": [
      "Final hypothesis: ['Sunny', 'Warm', '?', 'Strong', '?', '?', 'ϕ']\n"
     ]
    }
   ],
   "source": [
    "final_hypothesis = find_s_algorithm(dataset)\n",
    "\n",
    "# Print the final hypothesis\n",
    "print(\"Final hypothesis:\", final_hypothesis)"
   ]
  },
  {
   "cell_type": "markdown",
   "metadata": {},
   "source": [
    "### Experiment 2 -  For a given set of training data examples stored in a .CSV file, implement and demonstrate the Candidate Elimination algorithm to output a description of the set of all hypotheses consistent with the training examples."
   ]
  },
  {
   "cell_type": "code",
   "execution_count": 9,
   "metadata": {},
   "outputs": [
    {
     "data": {
      "text/html": [
       "<div>\n",
       "<style scoped>\n",
       "    .dataframe tbody tr th:only-of-type {\n",
       "        vertical-align: middle;\n",
       "    }\n",
       "\n",
       "    .dataframe tbody tr th {\n",
       "        vertical-align: top;\n",
       "    }\n",
       "\n",
       "    .dataframe thead th {\n",
       "        text-align: right;\n",
       "    }\n",
       "</style>\n",
       "<table border=\"1\" class=\"dataframe\">\n",
       "  <thead>\n",
       "    <tr style=\"text-align: right;\">\n",
       "      <th></th>\n",
       "      <th>sky</th>\n",
       "      <th>airtemp</th>\n",
       "      <th>humidity</th>\n",
       "      <th>wind</th>\n",
       "      <th>water</th>\n",
       "      <th>forcast</th>\n",
       "      <th>enjoysport</th>\n",
       "    </tr>\n",
       "  </thead>\n",
       "  <tbody>\n",
       "    <tr>\n",
       "      <th>0</th>\n",
       "      <td>Sunny</td>\n",
       "      <td>Warm</td>\n",
       "      <td>Normal</td>\n",
       "      <td>Strong</td>\n",
       "      <td>Warm</td>\n",
       "      <td>Same</td>\n",
       "      <td>Yes</td>\n",
       "    </tr>\n",
       "    <tr>\n",
       "      <th>1</th>\n",
       "      <td>Sunny</td>\n",
       "      <td>Warm</td>\n",
       "      <td>High</td>\n",
       "      <td>Strong</td>\n",
       "      <td>Warm</td>\n",
       "      <td>Same</td>\n",
       "      <td>Yes</td>\n",
       "    </tr>\n",
       "    <tr>\n",
       "      <th>2</th>\n",
       "      <td>Rainy</td>\n",
       "      <td>Cold</td>\n",
       "      <td>High</td>\n",
       "      <td>Strong</td>\n",
       "      <td>Warm</td>\n",
       "      <td>Change</td>\n",
       "      <td>No</td>\n",
       "    </tr>\n",
       "    <tr>\n",
       "      <th>3</th>\n",
       "      <td>Sunny</td>\n",
       "      <td>Warm</td>\n",
       "      <td>High</td>\n",
       "      <td>Strong</td>\n",
       "      <td>Cool</td>\n",
       "      <td>Change</td>\n",
       "      <td>Yes</td>\n",
       "    </tr>\n",
       "  </tbody>\n",
       "</table>\n",
       "</div>"
      ],
      "text/plain": [
       "     sky airtemp humidity    wind water forcast enjoysport\n",
       "0  Sunny    Warm   Normal  Strong  Warm    Same        Yes\n",
       "1  Sunny    Warm     High  Strong  Warm    Same        Yes\n",
       "2  Rainy    Cold     High  Strong  Warm  Change         No\n",
       "3  Sunny    Warm     High  Strong  Cool  Change        Yes"
      ]
     },
     "execution_count": 9,
     "metadata": {},
     "output_type": "execute_result"
    }
   ],
   "source": [
    "import numpy as np\n",
    "import pandas as pd\n",
    "\n",
    "# Read the training data from a CSV file (replace 'path/to/your/file.csv' with the actual path)\n",
    "te = pd.read_csv('C:/Users/adity/OneDrive/Documents/data science/dataset/trainingexamples.csv')\n",
    "te"
   ]
  },
  {
   "cell_type": "code",
   "execution_count": 10,
   "metadata": {},
   "outputs": [
    {
     "name": "stdout",
     "output_type": "stream",
     "text": [
      "Most Specific Hypothesis (S): ['Sunny', 'Warm', '?', 'Strong', '?', '?']\n",
      "Most General Hypothesis (G): [['?', 'Warm', '?', '?', '?', '?'], ['?', '?', '?', '?', 'Cool', '?']]\n"
     ]
    }
   ],
   "source": [
    "import pandas as pd\n",
    "\n",
    "def read_csv(file_path):\n",
    "    return pd.read_csv(file_path)\n",
    "\n",
    "def initialize_hypotheses(data):\n",
    "    num_attributes = len(data.columns) - 1  # Last column is the class label\n",
    "    S = ['0'] * num_attributes  # Most specific hypothesis\n",
    "    G = [['?'] * num_attributes]  # Most general hypothesis\n",
    "    return S, G\n",
    "\n",
    "def is_more_general(h1, h2):\n",
    "    \"\"\" Check if hypothesis h1 is more general than hypothesis h2 \"\"\"\n",
    "    more_general_parts = []\n",
    "    for x, y in zip(h1, h2):\n",
    "        mg = x == '?' or (x != '0' and (x == y or y == '0'))\n",
    "        more_general_parts.append(mg)\n",
    "    return all(more_general_parts)\n",
    "\n",
    "def satisfies(h, example):\n",
    "    return is_more_general(h, example)\n",
    "\n",
    "def generalize_S(S, example):\n",
    "    new_S = list(S)\n",
    "    for i in range(len(S)):\n",
    "        if S[i] == '0':\n",
    "            new_S[i] = example[i]\n",
    "        elif S[i] != example[i]:\n",
    "            new_S[i] = '?'\n",
    "    return new_S\n",
    "\n",
    "def specialize_G(G, example, domains):\n",
    "    specializations = []\n",
    "    for i in range(len(G)):\n",
    "        if G[i] == '?':\n",
    "            for value in domains[i]:\n",
    "                if value != example[i]:\n",
    "                    new_h = G.copy()\n",
    "                    new_h[i] = value\n",
    "                    specializations.append(new_h)\n",
    "        elif G[i] != example[i]:\n",
    "            new_h = G.copy()\n",
    "            new_h[i] = '?'\n",
    "            specializations.append(new_h)\n",
    "    return specializations\n",
    "\n",
    "def candidate_elimination(data):\n",
    "    S, G = initialize_hypotheses(data)\n",
    "    examples = data.values\n",
    "    domains = [set(data.iloc[:, i]) for i in range(len(data.columns) - 1)]\n",
    "\n",
    "    for example in examples:\n",
    "        inputs, output = example[:-1], example[-1]\n",
    "        if output == 'Yes':  # Positive example\n",
    "            S = generalize_S(S, inputs)\n",
    "            G_new = []\n",
    "            for g in G:\n",
    "                if satisfies(g, inputs):\n",
    "                    G_new.append(g)\n",
    "            G = G_new\n",
    "        else:  # Negative example\n",
    "            G_new = []\n",
    "            for g in G:\n",
    "                if not satisfies(g, inputs):\n",
    "                    G_new.append(g)\n",
    "                else:\n",
    "                    specialized = specialize_G(g, inputs, domains)\n",
    "                    for new_g in specialized:\n",
    "                        G_new.append(new_g)\n",
    "            G = []\n",
    "            for g in G_new:\n",
    "                if any(is_more_general(g, s) for s in S):\n",
    "                    G.append(g)\n",
    "    \n",
    "    return S, G\n",
    "\n",
    "def main(file_path):\n",
    "    data = read_csv(file_path)\n",
    "    S, G = candidate_elimination(data)\n",
    "    print(\"Most Specific Hypothesis (S):\", S)\n",
    "    print(\"Most General Hypothesis (G):\", G)\n",
    "\n",
    "# Example usage:\n",
    "file_path = 'C:/Users/adity/OneDrive/Documents/data science/dataset/trainingexamples.csv'  # Replace with your file path\n",
    "main(file_path)"
   ]
  },
  {
   "cell_type": "markdown",
   "metadata": {},
   "source": [
    "### Experiment - 3 : Write a program to demonstrate the working of the decision tree based ID3 algorithm. Use an appropriate data set for building the decision tree and apply this knowledge to classify a new sample."
   ]
  },
  {
   "cell_type": "code",
   "execution_count": 7,
   "metadata": {},
   "outputs": [],
   "source": [
    "import numpy as np\n",
    "import pandas as pd\n",
    "\n",
    "# Read the training data from a CSV file (replace 'path/to/your/file.csv' with the actual path)\n",
    "te = pd.read_csv('C:/Users/adity/OneDrive/Documents/data science/dataset/trainingexamples.csv')\n",
    "te\n",
    "data=te"
   ]
  },
  {
   "cell_type": "code",
   "execution_count": 8,
   "metadata": {},
   "outputs": [
    {
     "data": {
      "text/html": [
       "<div>\n",
       "<style scoped>\n",
       "    .dataframe tbody tr th:only-of-type {\n",
       "        vertical-align: middle;\n",
       "    }\n",
       "\n",
       "    .dataframe tbody tr th {\n",
       "        vertical-align: top;\n",
       "    }\n",
       "\n",
       "    .dataframe thead th {\n",
       "        text-align: right;\n",
       "    }\n",
       "</style>\n",
       "<table border=\"1\" class=\"dataframe\">\n",
       "  <thead>\n",
       "    <tr style=\"text-align: right;\">\n",
       "      <th></th>\n",
       "      <th>sky</th>\n",
       "      <th>airtemp</th>\n",
       "      <th>humidity</th>\n",
       "      <th>wind</th>\n",
       "      <th>water</th>\n",
       "      <th>forcast</th>\n",
       "      <th>enjoysport</th>\n",
       "    </tr>\n",
       "  </thead>\n",
       "  <tbody>\n",
       "    <tr>\n",
       "      <th>0</th>\n",
       "      <td>Sunny</td>\n",
       "      <td>Warm</td>\n",
       "      <td>Normal</td>\n",
       "      <td>Strong</td>\n",
       "      <td>Warm</td>\n",
       "      <td>Same</td>\n",
       "      <td>Yes</td>\n",
       "    </tr>\n",
       "    <tr>\n",
       "      <th>1</th>\n",
       "      <td>Sunny</td>\n",
       "      <td>Warm</td>\n",
       "      <td>High</td>\n",
       "      <td>Strong</td>\n",
       "      <td>Warm</td>\n",
       "      <td>Same</td>\n",
       "      <td>Yes</td>\n",
       "    </tr>\n",
       "    <tr>\n",
       "      <th>2</th>\n",
       "      <td>Rainy</td>\n",
       "      <td>Cold</td>\n",
       "      <td>High</td>\n",
       "      <td>Strong</td>\n",
       "      <td>Warm</td>\n",
       "      <td>Change</td>\n",
       "      <td>No</td>\n",
       "    </tr>\n",
       "    <tr>\n",
       "      <th>3</th>\n",
       "      <td>Sunny</td>\n",
       "      <td>Warm</td>\n",
       "      <td>High</td>\n",
       "      <td>Strong</td>\n",
       "      <td>Cool</td>\n",
       "      <td>Change</td>\n",
       "      <td>Yes</td>\n",
       "    </tr>\n",
       "  </tbody>\n",
       "</table>\n",
       "</div>"
      ],
      "text/plain": [
       "     sky airtemp humidity    wind water forcast enjoysport\n",
       "0  Sunny    Warm   Normal  Strong  Warm    Same        Yes\n",
       "1  Sunny    Warm     High  Strong  Warm    Same        Yes\n",
       "2  Rainy    Cold     High  Strong  Warm  Change         No\n",
       "3  Sunny    Warm     High  Strong  Cool  Change        Yes"
      ]
     },
     "execution_count": 8,
     "metadata": {},
     "output_type": "execute_result"
    }
   ],
   "source": [
    "data"
   ]
  },
  {
   "cell_type": "code",
   "execution_count": 9,
   "metadata": {},
   "outputs": [],
   "source": [
    "import pandas as pd\n",
    "import numpy as np\n",
    "\n",
    "data = pd.read_csv('C:/Users/adity/OneDrive/Documents/data science/dataset/trainingdata.csv')\n",
    "\n",
    "class TreeNode:\n",
    "    def __init__(self, attribute, value):\n",
    "        self.attribute = attribute\n",
    "        self.value = value\n",
    "        self.children = {}\n",
    "\n",
    "    def add_child(self, value, child_node):\n",
    "        self.children[value] = child_node\n",
    "\n",
    "    def predict(self, sample):\n",
    "        if not self.children:\n",
    "            return self.value\n",
    "        attr_value = sample[self.attribute]\n",
    "        if attr_value in self.children:\n",
    "            return self.children[attr_value].predict(sample)\n",
    "        else:\n",
    "            # If attribute value not found, return the most common value among children\n",
    "            child_values = [child.value for child in self.children.values()]\n",
    "            return max(set(child_values), key=child_values.count)\n",
    "\n",
    "\n",
    "def entropy(data, target_attribute):\n",
    "    entropy_val = 0\n",
    "    target_classes = data[target_attribute].unique()\n",
    "    total_samples = len(data)\n",
    "    for target_class in target_classes:\n",
    "        p = len(data[data[target_attribute] == target_class]) / total_samples\n",
    "        entropy_val -= p * np.log2(p)\n",
    "    return entropy_val\n",
    "\n",
    "\n",
    "def information_gain(data, attribute, target_attribute):\n",
    "    total_entropy = entropy(data, target_attribute)\n",
    "    values = data[attribute].unique()\n",
    "    weighted_entropy = 0\n",
    "    for value in values:\n",
    "        subset = data[data[attribute] == value]\n",
    "        weighted_entropy += (len(subset) / len(data)) * entropy(subset, target_attribute)\n",
    "    return total_entropy - weighted_entropy\n",
    "\n",
    "\n",
    "def id3(data, attributes, target_attribute):\n",
    "    # If all examples have the same classification, return a leaf node with that classification\n",
    "    if len(data[target_attribute].unique()) == 1:\n",
    "        return TreeNode(None, data[target_attribute].iloc[0])\n",
    "\n",
    "    # If attributes is empty, return a leaf node with the most common classification\n",
    "    if len(attributes) == 0:\n",
    "        most_common_value = data[target_attribute].mode()[0]\n",
    "        return TreeNode(None, most_common_value)\n",
    "\n",
    "    # Find the attribute with the highest information gain\n",
    "    max_gain = -float('inf')\n",
    "    best_attribute = None\n",
    "    for attribute in attributes:\n",
    "        gain = information_gain(data, attribute, target_attribute)\n",
    "        if gain > max_gain:\n",
    "            max_gain = gain\n",
    "            best_attribute = attribute\n",
    "\n",
    "    # Create a root node with the best attribute\n",
    "    root = TreeNode(best_attribute, None)\n",
    "\n",
    "    # Remove the best attribute from the attribute list\n",
    "    remaining_attributes = [attr for attr in attributes if attr != best_attribute]\n",
    "\n",
    "    # Create child nodes for each value of the best attribute\n",
    "    for value in data[best_attribute].unique():\n",
    "        subset = data[data[best_attribute] == value]\n",
    "        if len(subset) == 0:\n",
    "            # If subset is empty, return a leaf node with the most common classification in the original data\n",
    "            most_common_value = data[target_attribute].mode()[0]\n",
    "            root.add_child(value, TreeNode(None, most_common_value))\n",
    "        else:\n",
    "            # Recursively build the tree\n",
    "            child_node = id3(subset, remaining_attributes, target_attribute)\n",
    "            root.add_child(value, child_node)\n",
    "\n",
    "    return root\n",
    "\n",
    "\n",
    "def classify(sample, node):\n",
    "    return node.predict(sample)\n",
    "\n",
    "\n"
   ]
  },
  {
   "cell_type": "code",
   "execution_count": 10,
   "metadata": {},
   "outputs": [],
   "source": [
    "attributes = data.columns[:-1]\n",
    "target_attribute = data.columns[-1]\n",
    "\n",
    "root = id3(data[:-2], attributes, target_attribute)"
   ]
  },
  {
   "cell_type": "code",
   "execution_count": 11,
   "metadata": {},
   "outputs": [
    {
     "name": "stdout",
     "output_type": "stream",
     "text": [
      "Predicted class for the new sample: Yes\n"
     ]
    }
   ],
   "source": [
    "new_sample = data.iloc[-1]\n",
    "new_sample\n",
    "    \n",
    "\n",
    "predicted_class = classify(new_sample, root)\n",
    "print(f\"Predicted class for the new sample: {predicted_class}\")"
   ]
  },
  {
   "cell_type": "code",
   "execution_count": 12,
   "metadata": {},
   "outputs": [
    {
     "data": {
      "text/html": [
       "<div>\n",
       "<style scoped>\n",
       "    .dataframe tbody tr th:only-of-type {\n",
       "        vertical-align: middle;\n",
       "    }\n",
       "\n",
       "    .dataframe tbody tr th {\n",
       "        vertical-align: top;\n",
       "    }\n",
       "\n",
       "    .dataframe thead th {\n",
       "        text-align: right;\n",
       "    }\n",
       "</style>\n",
       "<table border=\"1\" class=\"dataframe\">\n",
       "  <thead>\n",
       "    <tr style=\"text-align: right;\">\n",
       "      <th></th>\n",
       "      <th>sepal length (cm)</th>\n",
       "      <th>sepal width (cm)</th>\n",
       "      <th>petal length (cm)</th>\n",
       "      <th>petal width (cm)</th>\n",
       "      <th>target</th>\n",
       "      <th>species</th>\n",
       "    </tr>\n",
       "  </thead>\n",
       "  <tbody>\n",
       "    <tr>\n",
       "      <th>0</th>\n",
       "      <td>5.1</td>\n",
       "      <td>3.5</td>\n",
       "      <td>1.4</td>\n",
       "      <td>0.2</td>\n",
       "      <td>0</td>\n",
       "      <td>setosa</td>\n",
       "    </tr>\n",
       "    <tr>\n",
       "      <th>1</th>\n",
       "      <td>4.9</td>\n",
       "      <td>3.0</td>\n",
       "      <td>1.4</td>\n",
       "      <td>0.2</td>\n",
       "      <td>0</td>\n",
       "      <td>setosa</td>\n",
       "    </tr>\n",
       "    <tr>\n",
       "      <th>2</th>\n",
       "      <td>4.7</td>\n",
       "      <td>3.2</td>\n",
       "      <td>1.3</td>\n",
       "      <td>0.2</td>\n",
       "      <td>0</td>\n",
       "      <td>setosa</td>\n",
       "    </tr>\n",
       "    <tr>\n",
       "      <th>3</th>\n",
       "      <td>4.6</td>\n",
       "      <td>3.1</td>\n",
       "      <td>1.5</td>\n",
       "      <td>0.2</td>\n",
       "      <td>0</td>\n",
       "      <td>setosa</td>\n",
       "    </tr>\n",
       "    <tr>\n",
       "      <th>4</th>\n",
       "      <td>5.0</td>\n",
       "      <td>3.6</td>\n",
       "      <td>1.4</td>\n",
       "      <td>0.2</td>\n",
       "      <td>0</td>\n",
       "      <td>setosa</td>\n",
       "    </tr>\n",
       "  </tbody>\n",
       "</table>\n",
       "</div>"
      ],
      "text/plain": [
       "   sepal length (cm)  sepal width (cm)  petal length (cm)  petal width (cm)  \\\n",
       "0                5.1               3.5                1.4               0.2   \n",
       "1                4.9               3.0                1.4               0.2   \n",
       "2                4.7               3.2                1.3               0.2   \n",
       "3                4.6               3.1                1.5               0.2   \n",
       "4                5.0               3.6                1.4               0.2   \n",
       "\n",
       "   target species  \n",
       "0       0  setosa  \n",
       "1       0  setosa  \n",
       "2       0  setosa  \n",
       "3       0  setosa  \n",
       "4       0  setosa  "
      ]
     },
     "execution_count": 12,
     "metadata": {},
     "output_type": "execute_result"
    }
   ],
   "source": [
    "import pandas as pd\n",
    "from sklearn.datasets import load_iris\n",
    "\n",
    "iris = load_iris()\n",
    "\n",
    "iris_df = pd.DataFrame(data=iris.data, columns=iris.feature_names)\n",
    "iris_df['target'] = iris.target\n",
    "\n",
    "iris_df['species'] = iris_df['target'].map({0: 'setosa', 1: 'versicolor', 2: 'virginica'})\n",
    "\n",
    "iris_df.head()\n"
   ]
  },
  {
   "cell_type": "code",
   "execution_count": 13,
   "metadata": {},
   "outputs": [],
   "source": [
    "from sklearn.model_selection import train_test_split\n",
    "from sklearn.tree import DecisionTreeClassifier"
   ]
  },
  {
   "cell_type": "code",
   "execution_count": 14,
   "metadata": {},
   "outputs": [
    {
     "name": "stdout",
     "output_type": "stream",
     "text": [
      "Accuracy: 1.0\n",
      "Classification Report:\n",
      "              precision    recall  f1-score   support\n",
      "\n",
      "      setosa       1.00      1.00      1.00        10\n",
      "  versicolor       1.00      1.00      1.00         9\n",
      "   virginica       1.00      1.00      1.00        11\n",
      "\n",
      "    accuracy                           1.00        30\n",
      "   macro avg       1.00      1.00      1.00        30\n",
      "weighted avg       1.00      1.00      1.00        30\n",
      "\n"
     ]
    }
   ],
   "source": [
    "from sklearn.metrics import classification_report,accuracy_score\n",
    "from sklearn.preprocessing import LabelEncoder\n",
    "\n",
    "label_encoder = LabelEncoder()\n",
    "y_encoded = label_encoder.fit_transform(iris_df['species'])\n",
    "\n",
    "X = iris_df.drop(columns=['species', 'target'])\n",
    "y = y_encoded\n",
    "\n",
    "X_train, X_test, y_train, y_test = train_test_split(X, y, test_size=0.2, random_state=42)\n",
    "\n",
    "clf = DecisionTreeClassifier(random_state=42)\n",
    "\n",
    "clf.fit(X_train, y_train)\n",
    "\n",
    "y_pred = clf.predict(X_test)\n",
    "\n",
    "accuracy = accuracy_score(y_test, y_pred)\n",
    "print(\"Accuracy:\", accuracy)\n",
    "\n",
    "print(\"Classification Report:\")\n",
    "print(classification_report(y_test, y_pred, target_names=label_encoder.classes_))\n"
   ]
  },
  {
   "cell_type": "markdown",
   "metadata": {},
   "source": [
    "### Experiment - 4 : Build an Artificial Neural Network by implementing the Backpropagation algorithm and test the same using appropriate data sets."
   ]
  },
  {
   "cell_type": "code",
   "execution_count": 11,
   "metadata": {},
   "outputs": [
    {
     "name": "stdout",
     "output_type": "stream",
     "text": [
      "Predicted outputs for test data:\n",
      "[[0.68895466]\n",
      " [0.63592419]]\n"
     ]
    }
   ],
   "source": [
    "import numpy as np\n",
    "\n",
    "# Sample input data (features)\n",
    "X = np.array([[2, 9], [1, 5], [3, 6]], dtype=float)\n",
    "\n",
    "# Sample output data (target labels)\n",
    "y = np.array([[0], [1], [1]], dtype=float)  # Adjust the labels as needed\n",
    "\n",
    "# Define the neural network architecture\n",
    "input_size = X.shape[1]\n",
    "hidden_size = 4  # You can choose any suitable value\n",
    "output_size = 1\n",
    "\n",
    "# Initialize weights and biases randomly\n",
    "weights_input_hidden = np.random.rand(input_size, hidden_size)\n",
    "weights_hidden_output = np.random.rand(hidden_size, output_size)\n",
    "\n",
    "# Training loop (you can adjust the number of epochs)\n",
    "learning_rate = 0.01\n",
    "for epoch in range(1000):\n",
    "    # Forward pass\n",
    "    hidden_layer_input = np.dot(X, weights_input_hidden)\n",
    "    hidden_layer_output = 1 / (1 + np.exp(-hidden_layer_input))\n",
    "    output_layer_input = np.dot(hidden_layer_output, weights_hidden_output)\n",
    "    predicted_output = 1 / (1 + np.exp(-output_layer_input))\n",
    "\n",
    "    # Backpropagation\n",
    "    error = y - predicted_output\n",
    "    d_output = error * (predicted_output * (1 - predicted_output))\n",
    "    error_hidden = d_output.dot(weights_hidden_output.T)\n",
    "    d_hidden = error_hidden * (hidden_layer_output * (1 - hidden_layer_output))\n",
    "\n",
    "    # Update weights\n",
    "    weights_hidden_output += hidden_layer_output.T.dot(d_output) * learning_rate\n",
    "    weights_input_hidden += X.T.dot(d_hidden) * learning_rate\n",
    "\n",
    "# Test the trained model (you can use a separate test dataset)\n",
    "test_input = np.array([[4, 8], [2, 7]], dtype=float)\n",
    "test_hidden = 1 / (1 + np.exp(-np.dot(test_input, weights_input_hidden)))\n",
    "test_output = 1 / (1 + np.exp(-np.dot(test_hidden, weights_hidden_output)))\n",
    "\n",
    "print(\"Predicted outputs for test data:\")\n",
    "print(test_output)"
   ]
  },
  {
   "cell_type": "code",
   "execution_count": 15,
   "metadata": {},
   "outputs": [
    {
     "name": "stdout",
     "output_type": "stream",
     "text": [
      "[{'weights': [0.13436424411240122, 0.8474337369372327, 0.763774618976614]}]\n",
      "[{'weights': [0.2550690257394217, 0.49543508709194095]}, {'weights': [0.4494910647887381, 0.651592972722763]}]\n"
     ]
    }
   ],
   "source": [
    "from random import seed,random\n",
    "def initialize(inputs,hidden,outputs):\n",
    "  network=list()\n",
    "  hidden_layer =[{'weights':[random() for i in range(inputs+1)]} for i in range(hidden)]\n",
    "  network.append(hidden_layer)\n",
    "  output_layer =[{'weights':[random() for i in range(hidden+1)]} for i in range(outputs)]\n",
    "  network.append(output_layer)\n",
    "  return network\n",
    "seed(1)\n",
    "network=initialize(2,1,2)\n",
    "for layer in network:\n",
    "    print(layer)"
   ]
  },
  {
   "cell_type": "markdown",
   "metadata": {},
   "source": [
    "### Experiment - 5: Write a program to implement the naïve Bayesian classifier for a sample training data set stored as a .CSV file. Compute the accuracy of the classifier, considering few test data sets. "
   ]
  },
  {
   "cell_type": "code",
   "execution_count": 16,
   "metadata": {},
   "outputs": [
    {
     "name": "stdout",
     "output_type": "stream",
     "text": [
      "THe first 5 values of data is :\n",
      "     Outlook Temperature Humidity  Windy PlayTennis\n",
      "0     Sunny         Hot     High  False         No\n",
      "1     Sunny         Hot     High   True         No\n",
      "2  Overcast         Hot     High  False        Yes\n",
      "3     Rainy        Mild     High  False        Yes\n",
      "4     Rainy        Cool   Normal  False        Yes\n"
     ]
    }
   ],
   "source": [
    "# import necessary libarities\n",
    "import pandas as pd\n",
    "from sklearn.preprocessing import LabelEncoder\n",
    "from sklearn.naive_bayes import GaussianNB\n",
    "# load data from CSV\n",
    "data = pd.read_csv('C:/Users/adity/OneDrive/Documents/data science/dataset/tennisdata.csv')\n",
    "print(\"THe first 5 values of data is :\\n\",data.head())"
   ]
  },
  {
   "cell_type": "code",
   "execution_count": 17,
   "metadata": {},
   "outputs": [
    {
     "name": "stdout",
     "output_type": "stream",
     "text": [
      "\n",
      "The First 5 values of train data is\n",
      "     Outlook Temperature Humidity  Windy\n",
      "0     Sunny         Hot     High  False\n",
      "1     Sunny         Hot     High   True\n",
      "2  Overcast         Hot     High  False\n",
      "3     Rainy        Mild     High  False\n",
      "4     Rainy        Cool   Normal  False\n"
     ]
    }
   ],
   "source": [
    "# obtain Train data and Train output\n",
    "X = data.iloc[:,:-1]\n",
    "print(\"\\nThe First 5 values of train data is\\n\",X.head())"
   ]
  },
  {
   "cell_type": "code",
   "execution_count": 18,
   "metadata": {},
   "outputs": [
    {
     "name": "stdout",
     "output_type": "stream",
     "text": [
      "\n",
      "The first 5 values of Train output is\n",
      " 0     No\n",
      "1     No\n",
      "2    Yes\n",
      "3    Yes\n",
      "4    Yes\n",
      "Name: PlayTennis, dtype: object\n"
     ]
    }
   ],
   "source": [
    "y = data.iloc[:,-1]\n",
    "print(\"\\nThe first 5 values of Train output is\\n\",y.head())"
   ]
  },
  {
   "cell_type": "code",
   "execution_count": 19,
   "metadata": {},
   "outputs": [
    {
     "name": "stdout",
     "output_type": "stream",
     "text": [
      "\n",
      "Now the Train data is :\n",
      "    Outlook  Temperature  Humidity  Windy\n",
      "0        2            1         0      0\n",
      "1        2            1         0      1\n",
      "2        0            1         0      0\n",
      "3        1            2         0      0\n",
      "4        1            0         1      0\n"
     ]
    }
   ],
   "source": [
    "# Convert then in numbers \n",
    "le_outlook = LabelEncoder()\n",
    "X.Outlook = le_outlook.fit_transform(X.Outlook)\n",
    "\n",
    "le_Temperature = LabelEncoder()\n",
    "X.Temperature = le_Temperature.fit_transform(X.Temperature)\n",
    "\n",
    "le_Humidity = LabelEncoder()\n",
    "X.Humidity = le_Humidity.fit_transform(X.Humidity)\n",
    "\n",
    "le_Windy = LabelEncoder()\n",
    "X.Windy = le_Windy.fit_transform(X.Windy)\n",
    "\n",
    "print(\"\\nNow the Train data is :\\n\",X.head())"
   ]
  },
  {
   "cell_type": "code",
   "execution_count": 20,
   "metadata": {},
   "outputs": [
    {
     "name": "stdout",
     "output_type": "stream",
     "text": [
      "\n",
      "Now the Train output is\n",
      " [0 0 1 1 1 0 1 0 1 1 1 1 1 0]\n"
     ]
    }
   ],
   "source": [
    "le_PlayTennis = LabelEncoder()\n",
    "y = le_PlayTennis.fit_transform(y)\n",
    "print(\"\\nNow the Train output is\\n\",y)"
   ]
  },
  {
   "cell_type": "code",
   "execution_count": 22,
   "metadata": {},
   "outputs": [
    {
     "data": {
      "text/plain": [
       "array([1, 1, 0])"
      ]
     },
     "execution_count": 22,
     "metadata": {},
     "output_type": "execute_result"
    }
   ],
   "source": [
    "from sklearn.model_selection import train_test_split\n",
    "X_train,X_test,y_train,y_test = train_test_split(X,y,test_size=0.20)\n",
    "classifier = GaussianNB()\n",
    "classifier.fit(X_train,y_train)\n",
    "pred = classifier.predict(X_test)\n",
    "pred"
   ]
  },
  {
   "cell_type": "code",
   "execution_count": 23,
   "metadata": {},
   "outputs": [
    {
     "name": "stdout",
     "output_type": "stream",
     "text": [
      "Accuracy is: 1.0\n",
      "Precision is: 1.0\n",
      "Recall is: 1.0\n",
      "f1_score is: 1.0\n",
      "Confusion Matrix: \n",
      " [[1 0]\n",
      " [0 2]]\n"
     ]
    }
   ],
   "source": [
    "from sklearn.metrics import accuracy_score,precision_score,recall_score,f1_score, confusion_matrix\n",
    "print(\"Accuracy is:\",accuracy_score(classifier.predict(X_test),y_test))\n",
    "print(\"Precision is:\",precision_score(classifier.predict(X_test),y_test))\n",
    "print(\"Recall is:\",recall_score(classifier.predict(X_test),y_test))\n",
    "print(\"f1_score is:\",f1_score(classifier.predict(X_test),y_test))\n",
    "print('Confusion Matrix: \\n', confusion_matrix(y_test, pred))"
   ]
  },
  {
   "cell_type": "markdown",
   "metadata": {},
   "source": [
    "### Experiment 6 :   Assuming a set of documents that need to be classified, use the naïve Bayesian Classifier model to perform this task. Built-in Java classes/API can be used to write the program. Calculate the accuracy, precision, and recall for your data set. "
   ]
  },
  {
   "cell_type": "code",
   "execution_count": 24,
   "metadata": {},
   "outputs": [
    {
     "name": "stdout",
     "output_type": "stream",
     "text": [
      "Total Instances of Dataset:  18\n"
     ]
    }
   ],
   "source": [
    "import pandas as pd\n",
    "msg = pd.read_csv('C:/Users/adity/OneDrive/Documents/data science/dataset/document.csv', names=['message', 'label'])\n",
    "print(\"Total Instances of Dataset: \", msg.shape[0])\n",
    "msg['labelnum'] = msg.label.map({'pos':1,'neg':0})"
   ]
  },
  {
   "cell_type": "code",
   "execution_count": 26,
   "metadata": {},
   "outputs": [],
   "source": [
    "X = msg.message\n",
    "y = msg.labelnum\n",
    "from sklearn.model_selection import train_test_split\n",
    "Xtrain, Xtest, ytrain, ytest = train_test_split(X, y,random_state=101)\n",
    "from sklearn.feature_extraction.text import CountVectorizer\n",
    "\n",
    "count_v = CountVectorizer()\n",
    "Xtrain_dm = count_v.fit_transform(Xtrain)\n",
    "Xtest_dm = count_v.transform(Xtest)"
   ]
  },
  {
   "cell_type": "code",
   "execution_count": 27,
   "metadata": {},
   "outputs": [
    {
     "name": "stdout",
     "output_type": "stream",
     "text": [
      "   am  an  and  awesome  bad  boss  can  dance  deal  do  ...  tired  to  \\\n",
      "0   0   0    0        0    0     0    0      0     0   0  ...      0   0   \n",
      "1   0   0    0        0    0     0    0      1     0   0  ...      0   1   \n",
      "2   0   0    0        0    0     0    0      0     0   1  ...      0   0   \n",
      "3   0   1    0        1    0     0    0      0     0   0  ...      0   0   \n",
      "4   0   1    0        1    0     0    0      0     0   0  ...      0   0   \n",
      "\n",
      "   today  tomorrow  view  we  went  what  will  with  \n",
      "0      0         1     0   1     0     0     1     0  \n",
      "1      0         0     0   0     0     0     0     0  \n",
      "2      0         0     0   0     0     0     0     0  \n",
      "3      0         0     0   0     0     0     0     0  \n",
      "4      0         0     1   0     0     1     0     0  \n",
      "\n",
      "[5 rows x 45 columns]\n"
     ]
    }
   ],
   "source": [
    "df = pd.DataFrame(Xtrain_dm.toarray(),columns=count_v.get_feature_names_out())\n",
    "print(df[0:5])"
   ]
  },
  {
   "cell_type": "code",
   "execution_count": 28,
   "metadata": {},
   "outputs": [],
   "source": [
    "from sklearn.naive_bayes import MultinomialNB\n",
    "clf = MultinomialNB()\n",
    "clf.fit(Xtrain_dm, ytrain)\n",
    "pred = clf.predict(Xtest_dm)"
   ]
  },
  {
   "cell_type": "code",
   "execution_count": 29,
   "metadata": {},
   "outputs": [
    {
     "name": "stdout",
     "output_type": "stream",
     "text": [
      "We will have good fun tomorrow ->neg\n",
      "I love to dance ->pos\n",
      "I do not like this restaurant ->pos\n",
      "This is an awesome place ->pos\n",
      "What an awesome view ->neg\n"
     ]
    }
   ],
   "source": [
    "for doc, p in zip(Xtrain, pred):\n",
    "    p = 'pos' if p == 1 else 'neg'\n",
    "    print(\"%s ->%s\"%(doc,p))"
   ]
  },
  {
   "cell_type": "code",
   "execution_count": 30,
   "metadata": {},
   "outputs": [
    {
     "name": "stdout",
     "output_type": "stream",
     "text": [
      "Accuracy Metrics: \n",
      "\n",
      "Accuracy:  0.6\n",
      "Recall:  0.6\n",
      "Precision:  1.0\n",
      "Confusion Matrix: \n",
      " [[0 0]\n",
      " [2 3]]\n"
     ]
    }
   ],
   "source": [
    "from sklearn.metrics import accuracy_score, confusion_matrix, precision_score, recall_score\n",
    "print('Accuracy Metrics: \\n')\n",
    "print('Accuracy: ', accuracy_score(ytest, pred))\n",
    "print('Recall: ', recall_score(ytest, pred))\n",
    "print('Precision: ', precision_score(ytest, pred))\n",
    "print('Confusion Matrix: \\n', confusion_matrix(ytest,pred))"
   ]
  },
  {
   "cell_type": "markdown",
   "metadata": {},
   "source": [
    "### Experiment 7 : Write a program to construct a Bayesian network considering medical data. Use this model to demonstrate the diagnosis of heart patients using standard Heart Disease Data Set. "
   ]
  },
  {
   "cell_type": "code",
   "execution_count": 31,
   "metadata": {},
   "outputs": [
    {
     "data": {
      "text/html": [
       "<div>\n",
       "<style scoped>\n",
       "    .dataframe tbody tr th:only-of-type {\n",
       "        vertical-align: middle;\n",
       "    }\n",
       "\n",
       "    .dataframe tbody tr th {\n",
       "        vertical-align: top;\n",
       "    }\n",
       "\n",
       "    .dataframe thead th {\n",
       "        text-align: right;\n",
       "    }\n",
       "</style>\n",
       "<table border=\"1\" class=\"dataframe\">\n",
       "  <thead>\n",
       "    <tr style=\"text-align: right;\">\n",
       "      <th></th>\n",
       "      <th>age</th>\n",
       "      <th>Gender</th>\n",
       "      <th>Family</th>\n",
       "      <th>diet</th>\n",
       "      <th>Lifestyle</th>\n",
       "      <th>cholestrol</th>\n",
       "      <th>heartdisease</th>\n",
       "    </tr>\n",
       "  </thead>\n",
       "  <tbody>\n",
       "    <tr>\n",
       "      <th>0</th>\n",
       "      <td>0</td>\n",
       "      <td>0</td>\n",
       "      <td>1</td>\n",
       "      <td>1</td>\n",
       "      <td>3</td>\n",
       "      <td>0</td>\n",
       "      <td>1</td>\n",
       "    </tr>\n",
       "    <tr>\n",
       "      <th>1</th>\n",
       "      <td>0</td>\n",
       "      <td>1</td>\n",
       "      <td>1</td>\n",
       "      <td>1</td>\n",
       "      <td>3</td>\n",
       "      <td>0</td>\n",
       "      <td>1</td>\n",
       "    </tr>\n",
       "    <tr>\n",
       "      <th>2</th>\n",
       "      <td>1</td>\n",
       "      <td>0</td>\n",
       "      <td>0</td>\n",
       "      <td>0</td>\n",
       "      <td>2</td>\n",
       "      <td>1</td>\n",
       "      <td>1</td>\n",
       "    </tr>\n",
       "    <tr>\n",
       "      <th>3</th>\n",
       "      <td>4</td>\n",
       "      <td>0</td>\n",
       "      <td>1</td>\n",
       "      <td>1</td>\n",
       "      <td>3</td>\n",
       "      <td>2</td>\n",
       "      <td>0</td>\n",
       "    </tr>\n",
       "    <tr>\n",
       "      <th>4</th>\n",
       "      <td>3</td>\n",
       "      <td>1</td>\n",
       "      <td>1</td>\n",
       "      <td>0</td>\n",
       "      <td>0</td>\n",
       "      <td>2</td>\n",
       "      <td>0</td>\n",
       "    </tr>\n",
       "  </tbody>\n",
       "</table>\n",
       "</div>"
      ],
      "text/plain": [
       "   age  Gender  Family  diet  Lifestyle  cholestrol  heartdisease\n",
       "0    0       0       1     1          3           0             1\n",
       "1    0       1       1     1          3           0             1\n",
       "2    1       0       0     0          2           1             1\n",
       "3    4       0       1     1          3           2             0\n",
       "4    3       1       1     0          0           2             0"
      ]
     },
     "execution_count": 31,
     "metadata": {},
     "output_type": "execute_result"
    }
   ],
   "source": [
    "heart_disease = pd.read_csv('C:/Users/adity/OneDrive/Documents/data science/dataset/heartdisease.csv')\n",
    "heart_disease.head()"
   ]
  },
  {
   "cell_type": "code",
   "execution_count": 32,
   "metadata": {},
   "outputs": [
    {
     "name": "stderr",
     "output_type": "stream",
     "text": [
      "c:\\Users\\adity\\AppData\\Local\\Programs\\Python\\Python310\\lib\\site-packages\\tqdm\\auto.py:21: TqdmWarning: IProgress not found. Please update jupyter and ipywidgets. See https://ipywidgets.readthedocs.io/en/stable/user_install.html\n",
      "  from .autonotebook import tqdm as notebook_tqdm\n"
     ]
    }
   ],
   "source": [
    "from pgmpy.models import BayesianNetwork\n",
    "model=BayesianNetwork ([\n",
    "('age','Lifestyle'),\n",
    "('Gender','Lifestyle'),\n",
    "('Family','heartdisease'),\n",
    "('diet','cholestrol'),\n",
    "('Lifestyle','diet'),\n",
    "('cholestrol','heartdisease'),\n",
    "])"
   ]
  },
  {
   "cell_type": "code",
   "execution_count": 33,
   "metadata": {},
   "outputs": [],
   "source": [
    "from pgmpy.estimators import MaximumLikelihoodEstimator\n",
    "model.fit(heart_disease, estimator=MaximumLikelihoodEstimator)\n",
    "\n",
    "from pgmpy.inference import VariableElimination\n",
    "HeartDisease_infer = VariableElimination(model)"
   ]
  },
  {
   "cell_type": "code",
   "execution_count": 42,
   "metadata": {},
   "outputs": [
    {
     "name": "stdout",
     "output_type": "stream",
     "text": [
      "For age Enter { SuperSeniorCitizen:0, SeniorCitizen:1, MiddleAged:2, Youth:3, Teen:4 }\n",
      "For Gender Enter { Male:0, Female:1 }\n",
      "For Family History Enter { yes:1, No:0 }\n",
      "For diet Enter { High:0, Medium:1 }\n",
      "For lifeStyle Enter { Athlete:0, Active:1, Moderate:2, Sedentary:3 }\n",
      "For cholesterol Enter { High:0, BorderLine:1, Normal:2 }\n",
      "Probability of heart disease being 0: 0.8333333333333334\n",
      "Probability of heart disease being 1: 0.16666666666666666\n"
     ]
    }
   ],
   "source": [
    "print('For age Enter { SuperSeniorCitizen:0, SeniorCitizen:1, MiddleAged:2, Youth:3, Teen:4 }')\n",
    "print('For Gender Enter { Male:0, Female:1 }')\n",
    "print('For Family History Enter { yes:1, No:0 }')\n",
    "print('For diet Enter { High:0, Medium:1 }')\n",
    "print('For lifeStyle Enter { Athlete:0, Active:1, Moderate:2, Sedentary:3 }')\n",
    "print('For cholesterol Enter { High:0, BorderLine:1, Normal:2 }')\n",
    "\n",
    "q = HeartDisease_infer.query(variables=['heartdisease'], evidence={\n",
    "    'age':int(input('Enter age :')),\n",
    "    'Gender':int(input('Enter Gender :')),\n",
    "    'Family':int(input('Enter Family history :')),\n",
    "    'diet':int(input('Enter diet :')),\n",
    "    'Lifestyle':int(input('Enter Lifestyle :')),\n",
    "    'cholestrol':int(input('Enter cholestrol :'))\n",
    "    })\n",
    "\n",
    "#print(q['heartdisease'])\n",
    "probabilities = q.values\n",
    "# Print the probabilities\n",
    "for i, prob in enumerate(probabilities):\n",
    "    print(f'Probability of heart disease being {i}: {prob}')"
   ]
  },
  {
   "cell_type": "markdown",
   "metadata": {},
   "source": [
    "### Experiment 8 : Apply EM algorithm to cluster a set of data stored in a .CSV file. Use the same data set for clustering using k-Means algorithm. Compare the results of these two algorithms and comment on the quality of clustering. You can add Java/Python ML library classes/API in the program."
   ]
  },
  {
   "cell_type": "code",
   "execution_count": 34,
   "metadata": {},
   "outputs": [],
   "source": [
    "from sklearn.cluster import KMeans\n",
    "from sklearn import preprocessing\n",
    "from sklearn.mixture import GaussianMixture\n",
    "from sklearn.datasets import load_iris\n",
    "import sklearn.metrics as sm\n",
    "import pandas as pd\n",
    "import numpy as np\n",
    "import matplotlib.pyplot as plt"
   ]
  },
  {
   "cell_type": "code",
   "execution_count": 35,
   "metadata": {},
   "outputs": [],
   "source": [
    "dataset=load_iris()\n",
    "# print(dataset)"
   ]
  },
  {
   "cell_type": "code",
   "execution_count": 36,
   "metadata": {},
   "outputs": [
    {
     "name": "stdout",
     "output_type": "stream",
     "text": [
      "     Sepal_Length  Sepal_Width  Petal_Length  Petal_Width\n",
      "0             5.1          3.5           1.4          0.2\n",
      "1             4.9          3.0           1.4          0.2\n",
      "2             4.7          3.2           1.3          0.2\n",
      "3             4.6          3.1           1.5          0.2\n",
      "4             5.0          3.6           1.4          0.2\n",
      "..            ...          ...           ...          ...\n",
      "145           6.7          3.0           5.2          2.3\n",
      "146           6.3          2.5           5.0          1.9\n",
      "147           6.5          3.0           5.2          2.0\n",
      "148           6.2          3.4           5.4          2.3\n",
      "149           5.9          3.0           5.1          1.8\n",
      "\n",
      "[150 rows x 4 columns]      Targets\n",
      "0          0\n",
      "1          0\n",
      "2          0\n",
      "3          0\n",
      "4          0\n",
      "..       ...\n",
      "145        2\n",
      "146        2\n",
      "147        2\n",
      "148        2\n",
      "149        2\n",
      "\n",
      "[150 rows x 1 columns]\n"
     ]
    }
   ],
   "source": [
    "X=pd.DataFrame(dataset.data)\n",
    "X.columns=['Sepal_Length','Sepal_Width','Petal_Length','Petal_Width']\n",
    "y=pd.DataFrame(dataset.target)\n",
    "y.columns=['Targets']\n",
    "print(X,y)"
   ]
  },
  {
   "cell_type": "code",
   "execution_count": 37,
   "metadata": {},
   "outputs": [
    {
     "data": {
      "text/plain": [
       "Text(0.5, 1.0, 'GMM Classification')"
      ]
     },
     "execution_count": 37,
     "metadata": {},
     "output_type": "execute_result"
    },
    {
     "data": {
      "image/png": "[encoded data removed]",
      "text/plain": [
       "<Figure size 1400x700 with 3 Axes>"
      ]
     },
     "metadata": {},
     "output_type": "display_data"
    }
   ],
   "source": [
    "plt.figure(figsize=(14,7))\n",
    "colormap=np.array(['red','lime','black'])\n",
    "\n",
    "# REAL PLOT\n",
    "plt.subplot(1,3,1)\n",
    "plt.scatter(X.Petal_Length,X.Petal_Width,c=colormap[y.Targets],s=40)\n",
    "plt.title('Real')\n",
    "\n",
    "# K-PLOT\n",
    "plt.subplot(1,3,2)\n",
    "model=KMeans(n_clusters=3,n_init=10)\n",
    "model.fit(X)\n",
    "predY=np.choose(model.labels_,[0,1,2]).astype(np.int64)\n",
    "plt.scatter(X.Petal_Length,X.Petal_Width,c=colormap[predY],s=40)\n",
    "plt.title('KMeans')\n",
    "\n",
    "# GMM PLOT\n",
    "scaler=preprocessing.StandardScaler()\n",
    "scaler.fit(X)\n",
    "xsa=scaler.transform(X)\n",
    "xs=pd.DataFrame(xsa,columns=X.columns)\n",
    "gmm=GaussianMixture(n_components=3)\n",
    "gmm.fit(xs)\n",
    "y_cluster_gmm=gmm.predict(xs)\n",
    "plt.subplot(1,3,3)\n",
    "plt.scatter(X.Petal_Length,X.Petal_Width,c=colormap[y_cluster_gmm],s=40)\n",
    "plt.title('GMM Classification')"
   ]
  },
  {
   "cell_type": "markdown",
   "metadata": {},
   "source": [
    "### Experiment 9 : Write a program to implement k-Nearest Neighbour algorithm to classify the iris data set. Print both correct and wrong predictions. Java/Python ML library classes can be used for this problem. "
   ]
  },
  {
   "cell_type": "code",
   "execution_count": 38,
   "metadata": {},
   "outputs": [
    {
     "name": "stdout",
     "output_type": "stream",
     "text": [
      "Correct Prediction: Predicted Class - 1, Actual Class - 1\n",
      "Correct Prediction: Predicted Class - 0, Actual Class - 0\n",
      "Correct Prediction: Predicted Class - 2, Actual Class - 2\n",
      "Correct Prediction: Predicted Class - 1, Actual Class - 1\n",
      "Correct Prediction: Predicted Class - 1, Actual Class - 1\n",
      "Correct Prediction: Predicted Class - 0, Actual Class - 0\n",
      "Correct Prediction: Predicted Class - 1, Actual Class - 1\n",
      "Correct Prediction: Predicted Class - 2, Actual Class - 2\n",
      "Correct Prediction: Predicted Class - 1, Actual Class - 1\n",
      "Correct Prediction: Predicted Class - 1, Actual Class - 1\n",
      "Correct Prediction: Predicted Class - 2, Actual Class - 2\n",
      "Correct Prediction: Predicted Class - 0, Actual Class - 0\n",
      "Correct Prediction: Predicted Class - 0, Actual Class - 0\n",
      "Correct Prediction: Predicted Class - 0, Actual Class - 0\n",
      "Correct Prediction: Predicted Class - 0, Actual Class - 0\n",
      "Correct Prediction: Predicted Class - 1, Actual Class - 1\n",
      "Correct Prediction: Predicted Class - 2, Actual Class - 2\n",
      "Correct Prediction: Predicted Class - 1, Actual Class - 1\n",
      "Correct Prediction: Predicted Class - 1, Actual Class - 1\n",
      "Correct Prediction: Predicted Class - 2, Actual Class - 2\n",
      "Correct Prediction: Predicted Class - 0, Actual Class - 0\n",
      "Correct Prediction: Predicted Class - 2, Actual Class - 2\n",
      "Correct Prediction: Predicted Class - 0, Actual Class - 0\n",
      "Correct Prediction: Predicted Class - 2, Actual Class - 2\n",
      "Correct Prediction: Predicted Class - 2, Actual Class - 2\n",
      "Correct Prediction: Predicted Class - 2, Actual Class - 2\n",
      "Correct Prediction: Predicted Class - 2, Actual Class - 2\n",
      "Correct Prediction: Predicted Class - 2, Actual Class - 2\n",
      "Correct Prediction: Predicted Class - 0, Actual Class - 0\n",
      "Correct Prediction: Predicted Class - 0, Actual Class - 0\n",
      "Correct Prediction: Predicted Class - 0, Actual Class - 0\n",
      "Correct Prediction: Predicted Class - 0, Actual Class - 0\n",
      "Correct Prediction: Predicted Class - 1, Actual Class - 1\n",
      "Correct Prediction: Predicted Class - 0, Actual Class - 0\n",
      "Correct Prediction: Predicted Class - 0, Actual Class - 0\n",
      "Correct Prediction: Predicted Class - 2, Actual Class - 2\n",
      "Correct Prediction: Predicted Class - 1, Actual Class - 1\n",
      "Correct Prediction: Predicted Class - 0, Actual Class - 0\n",
      "Correct Prediction: Predicted Class - 0, Actual Class - 0\n",
      "Correct Prediction: Predicted Class - 0, Actual Class - 0\n",
      "Correct Prediction: Predicted Class - 2, Actual Class - 2\n",
      "Correct Prediction: Predicted Class - 1, Actual Class - 1\n",
      "Correct Prediction: Predicted Class - 1, Actual Class - 1\n",
      "Correct Prediction: Predicted Class - 0, Actual Class - 0\n",
      "Correct Prediction: Predicted Class - 0, Actual Class - 0\n",
      "\n",
      "Accuracy: 1.0\n",
      "Number of Correct Predictions: 45\n",
      "Number of Wrong Predictions: 0\n"
     ]
    }
   ],
   "source": [
    "from sklearn.datasets import load_iris\n",
    "from sklearn.model_selection import train_test_split\n",
    "from sklearn.neighbors import KNeighborsClassifier\n",
    "from sklearn.metrics import accuracy_score\n",
    "\n",
    "# Load Iris dataset\n",
    "iris = load_iris()\n",
    "X = iris.data\n",
    "y = iris.target\n",
    "\n",
    "# Reduce the amount of training data\n",
    "X_train, X_test, y_train, y_test = train_test_split(X, y, test_size=0.3, random_state=42)\n",
    "\n",
    "# Initialize KNN classifier\n",
    "knn = KNeighborsClassifier(n_neighbors=3)\n",
    "\n",
    "# Fit the classifier to the training data\n",
    "knn.fit(X_train, y_train)\n",
    "\n",
    "# Predict on the test data\n",
    "predictions = knn.predict(X_test)\n",
    "\n",
    "# Print correct and wrong predictions\n",
    "correct_predictions = 0\n",
    "wrong_predictions = 0\n",
    "for i in range(len(predictions)):\n",
    "    if predictions[i] == y_test[i]:\n",
    "        print(f\"Correct Prediction: Predicted Class - {predictions[i]}, Actual Class - {y_test[i]}\")\n",
    "        correct_predictions += 1\n",
    "    else:\n",
    "        print(f\"Wrong Prediction: Predicted Class - {predictions[i]}, Actual Class - {y_test[i]}\")\n",
    "        wrong_predictions += 1\n",
    "\n",
    "# Print accuracy\n",
    "accuracy = accuracy_score(y_test, predictions)\n",
    "print(f\"\\nAccuracy: {accuracy}\")\n",
    "print(f\"Number of Correct Predictions: {correct_predictions}\")\n",
    "print(f\"Number of Wrong Predictions: {wrong_predictions}\")"
   ]
  },
  {
   "cell_type": "markdown",
   "metadata": {},
   "source": [
    "### Experiment 10 : Implement the non-parametric Locally Weighted Regression algorithm in order to fit data points. Select appropriate data set for your experiment and draw graphs."
   ]
  },
  {
   "cell_type": "code",
   "execution_count": 40,
   "metadata": {},
   "outputs": [
    {
     "data": {
      "image/png": "[encoded data removed]",
      "text/plain": [
       "<Figure size 640x480 with 1 Axes>"
      ]
     },
     "metadata": {},
     "output_type": "display_data"
    }
   ],
   "source": [
    "import numpy as np\n",
    "import matplotlib.pyplot as plt\n",
    "from sklearn.datasets import make_regression\n",
    "\n",
    "def generate_data():\n",
    "    # Generating synthetic dataset\n",
    "    X, y = make_regression(n_samples=100, n_features=1, noise=10, random_state=42)\n",
    "    X = X.flatten()\n",
    "    return X, y\n",
    "\n",
    "def compute_weights(X, x_query, tau):\n",
    "    return np.exp(-((X - x_query) ** 2) / (2 * tau ** 2))\n",
    "\n",
    "def locally_weighted_regression(X, y, x_query, tau):\n",
    "    # Compute weights\n",
    "    weights = compute_weights(X, x_query, tau)\n",
    "    \n",
    "    # Create weighted X matrix\n",
    "    X_aug = np.vstack((np.ones_like(X), X)).T\n",
    "    W = np.diag(weights)\n",
    "    \n",
    "    # Compute theta\n",
    "    theta = np.linalg.pinv(X_aug.T @ W @ X_aug) @ X_aug.T @ W @ y\n",
    "    \n",
    "    return np.dot([1, x_query], theta)\n",
    "\n",
    "def fit_lwr(X, y, tau):\n",
    "    # Fit LWR for each point in X\n",
    "    y_pred = np.array([locally_weighted_regression(X, y, x_query, tau) for x_query in X])\n",
    "    return y_pred\n",
    "\n",
    "def plot_lwr(X, y, y_pred, tau):\n",
    "    plt.scatter(X, y, color='blue', label='Data points')\n",
    "    plt.plot(X, y_pred, color='red', label='LWR fit')\n",
    "    plt.xlabel('X')\n",
    "    plt.ylabel('y')\n",
    "    plt.title(f'Locally Weighted Regression (tau={tau})')\n",
    "    plt.legend()\n",
    "    plt.show()\n",
    "\n",
    "# Main function to execute the steps\n",
    "def main():\n",
    "    X, y = generate_data()\n",
    "    tau = 0.1  # Bandwidth parameter\n",
    "    y_pred = fit_lwr(X, y, tau)\n",
    "    plot_lwr(X, y, y_pred, tau)\n",
    "\n",
    "# Execute the main function\n",
    "main()"
   ]
  }
 ],
 "metadata": {
  "kernelspec": {
   "display_name": "Python 3",
   "language": "python",
   "name": "python3"
  },
  "language_info": {
   "codemirror_mode": {
    "name": "ipython",
    "version": 3
   },
   "file_extension": ".py",
   "mimetype": "text/x-python",
   "name": "python",
   "nbconvert_exporter": "python",
   "pygments_lexer": "ipython3",
   "version": "3.10.6"
  }
 },
 "nbformat": 4,
 "nbformat_minor": 2
}
